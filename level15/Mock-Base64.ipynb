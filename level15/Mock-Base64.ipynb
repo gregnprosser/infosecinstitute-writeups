{
 "metadata": {
  "name": ""
 },
 "nbformat": 3,
 "nbformat_minor": 0,
 "worksheets": [
  {
   "cells": [
    {
     "cell_type": "markdown",
     "metadata": {},
     "source": [
      "# Inspiration\n",
      "\n",
      "The ciphertext from level 15 in the challenge appears a lot like a base64 encoded string, but doesn't decode using regular tools.  However, on a lark, I tried some rudimentary cryptanalysis on the ciphertext.  Cryptographers (people who break codes for a living) often use [crib](http://en.wikipedia.org/wiki/Known-plaintext_attack) texts - information known about the result - to deduce information about the cryptography.\n",
      "\n",
      "The following notebook shows my experimentation with the level 15 string assuming this is a base64 algorithm, with the idea that the resulting flag will begin with the common `infosec_flagis_` string found from other levels."
     ]
    },
    {
     "cell_type": "markdown",
     "metadata": {},
     "source": [
      "## The Basics\n",
      "\n",
      "To start with, it's worth discussing how base64 works.  base64 uses only alphabetic, numeric, and (generally) `+` and `/` characters to represent more complicated (i.e. binary) data.  The idea behind this is that these characters are usually transferred \"easier\" than complicated binary.\n",
      "\n",
      "A string is a collection of ASCII characters encoded as bytes.  During base64 encoding, this string of bytes is \"converted\" into a a string of 6-bit chunks instead, and each 6-bit chunk is encoded as one of the 64 characters in the acceptable set by indexing into an array containing `ABCDEFGHIJKLMNOPQRSTUVWXYZabcdefghijklmnopqrstuvwxyz0123456789+/` (i.e. `A` represents `000000`)\n",
      "\n",
      "To experiment, lets start by assuming the first few characters of the result are the crib we know of, `infosec_flagis_`, and try to reverse the encoding to find a mapping table that would result in our string -- that is, if we assume the ciphertext represents that crib, what would the string we need to index into look like?"
     ]
    },
    {
     "cell_type": "code",
     "collapsed": false,
     "input": [
      "def ascii_to_binary(ascii):\n",
      "    \"\"\"Returns the ascii text supplied converted to binary, as a string.\"\"\"\n",
      "    \n",
      "    return \"\".join([\"{0:08b}\".format(ord(chr)) for chr in ascii])\n",
      "\n",
      "def chunk_string(instr, chunksize):\n",
      "    \"\"\"Return a list formed by breaking instr into chunksize sized chunks.\"\"\"\n",
      "    return [instr[i:i+chunksize] for i in range(0, len(instr), chunksize)]\n",
      "\n",
      "# ciphertext from .hey\n",
      "ciphertext = \"Miux+mT6Kkcx+IhyMjTFnxT6KjAa+i6ZLibC\"\n",
      "\n",
      "# lets assume the beginning of the flag is this\n",
      "flag_fragment = \"infosec_flagis_\"\n",
      "\n",
      "flag_as_b64_chunks = chunk_string(ascii_to_binary(flag_fragment), 6)\n",
      "\n",
      "# assuming this is a base64 variant, populate a translation table with \"knowns\"\n",
      "# things left unknown will be filled with a space\n",
      "\n",
      "faux_b64_table = [\" \"] * 64\n",
      "\n",
      "for candidatepos in range(len(flag_as_b64_chunks)):\n",
      "    candidate = flag_as_b64_chunks[candidatepos]\n",
      "    if len(candidate) != 6:\n",
      "        print \"skipping too small fragment:\", candidate\n",
      "    else:\n",
      "        as_int = int(candidate, 2)\n",
      "        targetchar = faux_b64_table[as_int]\n",
      "        if targetchar not in [' ', ciphertext[candidatepos]]:\n",
      "            print \"error: attempted to fill slot\", as_int, \"with\", ciphertext[candidatepos], \"but it's already\", targetchar\n",
      "        else:\n",
      "            faux_b64_table[as_int] = ciphertext[candidatepos]\n",
      "\n",
      "print \"filled set:\", \"[\" + \"\".join(faux_b64_table) + \"]\""
     ],
     "language": "python",
     "metadata": {},
     "outputs": [
      {
       "output_type": "stream",
       "stream": "stdout",
       "text": [
        "filled set: [     hI      T        ijK M+   F     6xy             k m u   c  ]\n"
       ]
      }
     ],
     "prompt_number": 111
    },
    {
     "cell_type": "markdown",
     "metadata": {},
     "source": [
      "## Preliminary Results\n",
      "\n",
      "This was at first an experiment -- but the fact that no duplicates ended up in the resulting table (i.e. the reverse algorithm didn't try to put two characters in the same position) gives us some hope.\n",
      "\n",
      "Lets go on to try decoding the string based on what we have, marking things we can't decode with a `*`."
     ]
    },
    {
     "cell_type": "code",
     "collapsed": false,
     "input": [
      "# now lets build an inversed hash from this, and try to decode - see what we're missing\n",
      "b64_val_by_char = {}\n",
      "b64_char_by_val = {}\n",
      "\n",
      "for i in range(len(faux_b64_table)):\n",
      "        if faux_b64_table[i] == ' ':\n",
      "            pass\n",
      "        else:\n",
      "            b64_val_by_char[faux_b64_table[i]] = i\n",
      "            b64_char_by_val[i] = faux_b64_table[i]\n",
      "\n",
      "# convert the ciphertext into a string of bits using what we know\n",
      "# if we don't know the bit pattern, fill the bits with the letter\n",
      "# also, keep track of what letters we 'need'\n",
      "\n",
      "binary_string = \"\"\n",
      "missing_values = []\n",
      "\n",
      "for char in ciphertext:\n",
      "    if char not in b64_val_by_char:\n",
      "        binary_string += (char*6)\n",
      "        missing_values.append(char)\n",
      "    else:\n",
      "        binary_string += \"{0:06b}\".format(b64_val_by_char[char])\n",
      "\n",
      "\n",
      "print \"missing values:\", \", \".join(missing_values)\n",
      "print\n",
      "\n",
      "binary_chunks = chunk_string(binary_string, 8)\n",
      "\n",
      "print \"|\".join(binary_chunks)"
     ],
     "language": "python",
     "metadata": {},
     "outputs": [
      {
       "output_type": "stream",
       "stream": "stdout",
       "text": [
        "missing values: n, A, a, Z, L, b, C\n",
        "\n",
        "01101001|01101110|01100110|01101111|01110011|01100101|01100011|01011111|01100110|01101100|01100001|01100111|01101001|01110011|01011111|nnnnnn10|01100011|01100101|01100001|0111AAAA|AAaaaaaa|01101101|01101001|01ZZZZZZ|LLLLLL01|0110bbbb|bbCCCCCC\n"
       ]
      }
     ],
     "prompt_number": 112
    },
    {
     "cell_type": "code",
     "collapsed": false,
     "input": [
      "# lets print out what we know as a result of what we found earlier\n",
      "\n",
      "def \n",
      "decoded_so_far = \"\"\n",
      "for chunk in binary_chunks:\n",
      "    if chunk.isdigit():\n",
      "        decoded_so_far += chr(int(chunk, 2))\n",
      "    else:\n",
      "        decoded_so_far += \"*\"\n",
      "        \n",
      "print decoded_so_far "
     ],
     "language": "python",
     "metadata": {},
     "outputs": [
      {
       "output_type": "stream",
       "stream": "stdout",
       "text": [
        "infosec_flagis_*cea**mi****\n"
       ]
      }
     ],
     "prompt_number": 113
    },
    {
     "cell_type": "markdown",
     "metadata": {},
     "source": [
      "## More Results\n",
      "\n",
      "Impossibly (seemingly), we managed to encode some later characters in the string!  I think this is working!\n",
      "\n",
      "Since most of the flags (and all the induced characters above) seem to be lowercase, this gives us more information.  The range of values for `a` to `z` only ranges from 97 to 122, which look like this in binary:"
     ]
    },
    {
     "cell_type": "code",
     "collapsed": false,
     "input": [
      "print \"{0:08b}\".format(ord('a')), ord('a')\n",
      "print \"{0:08b}\".format(ord('z')), ord('z')"
     ],
     "language": "python",
     "metadata": {},
     "outputs": [
      {
       "output_type": "stream",
       "stream": "stdout",
       "text": [
        "01100001 97\n",
        "01111010 122\n"
       ]
      }
     ],
     "prompt_number": 114
    },
    {
     "cell_type": "markdown",
     "metadata": {},
     "source": [
      "## What does this mean?\n",
      "\n",
      "Well, for starters, all our bytes must then start with `011`.  Lets look at all the bytes in the encoding that are missing data."
     ]
    },
    {
     "cell_type": "code",
     "collapsed": false,
     "input": [
      "fragments = []\n",
      "\n",
      "# lets print all the fragments\n",
      "for chunk in binary_chunks:\n",
      "    if not chunk.isdigit():\n",
      "        print chunk\n",
      "        fragments.append(chunk)"
     ],
     "language": "python",
     "metadata": {},
     "outputs": [
      {
       "output_type": "stream",
       "stream": "stdout",
       "text": [
        "nnnnnn10\n",
        "0111AAAA\n",
        "AAaaaaaa\n",
        "01ZZZZZZ\n",
        "LLLLLL01\n",
        "0110bbbb\n",
        "bbCCCCCC\n"
       ]
      }
     ],
     "prompt_number": 115
    },
    {
     "cell_type": "markdown",
     "metadata": {},
     "source": [
      "## Deductions\n",
      "\n",
      "At this point, we can conclude the following about the missing bits:\n",
      "\n",
      "- `nnnnnn` is `011xxx`\n",
      "- `AAAAAA` is `xxxx01`\n",
      "- `aaaaaa` is `1xxxxx`\n",
      "- `ZZZZZZ` is `1xxxxx`\n",
      "- `LLLLLL` is `011xxx`\n",
      "- `bbbbbb` is `xxxx01`\n",
      "- `CCCCCC` is `1xxxxx`\n",
      "\n",
      "We can determine from this what numbers are acceptable for these spots."
     ]
    },
    {
     "cell_type": "code",
     "collapsed": false,
     "input": [
      "deductions = {\n",
      "    # sequence, bits, mask\n",
      "    ('nnnnnn', '011000', '111000'),\n",
      "    ('AAAAAA', '000001', '000011'),\n",
      "    ('aaaaaa', '100000', '100000'),\n",
      "    ('ZZZZZZ', '100000', '100000'),\n",
      "    ('LLLLLL', '011000', '111000'),\n",
      "    ('bbbbbb', '000001', '000011'),\n",
      "    ('CCCCCC', '100000', '100000'),\n",
      "}\n",
      "\n",
      "possibilities = {}\n",
      "\n",
      "# this is the list of numbers we haven't \"used\" in the base64 values\n",
      "numbers_available = set(range(64)) - set(b64_char_by_val.keys())\n",
      "\n",
      "# lets build a search space of possible values\n",
      "search_space = {}\n",
      "\n",
      "for sequence, bits, mask in deductions:\n",
      "    candidates = []\n",
      "    for possiblenum in numbers_available:\n",
      "        if (possiblenum & int(mask,2)) == int(bits,2):\n",
      "            candidates.append(possiblenum)\n",
      "\n",
      "    possibilities[sequence] = candidates\n",
      "    \n",
      "    print \"for\", sequence, \"the values can be\", candidates"
     ],
     "language": "python",
     "metadata": {},
     "outputs": [
      {
       "output_type": "stream",
       "stream": "stdout",
       "text": [
        "for aaaaaa the values can be [32, 33, 34, 35, 36, 40, 41, 42, 43, 44, 45, 46, 47, 48, 49, 50, 51, 52, 54, 56, 58, 59, 60, 62, 63]\n",
        "for CCCCCC the values can be [32, 33, 34, 35, 36, 40, 41, 42, 43, 44, 45, 46, 47, 48, 49, 50, 51, 52, 54, 56, 58, 59, 60, 62, 63]\n",
        "for bbbbbb the values can be [1, 9, 17, 21, 25, 29, 33, 41, 45, 49]\n",
        "for AAAAAA the values can be [1, 9, 17, 21, 25, 29, 33, 41, 45, 49]\n",
        "for ZZZZZZ the values can be [32, 33, 34, 35, 36, 40, 41, 42, 43, 44, 45, 46, 47, 48, 49, 50, 51, 52, 54, 56, 58, 59, 60, 62, 63]\n",
        "for nnnnnn the values can be [25, 28, 29, 30]\n",
        "for LLLLLL the values can be [25, 28, 29, 30]\n"
       ]
      }
     ],
     "prompt_number": 116
    },
    {
     "cell_type": "markdown",
     "metadata": {},
     "source": [
      "## More Conclusions\n",
      "\n",
      "At this point, we can do some checks on a couple of the fragments we're exploring."
     ]
    },
    {
     "cell_type": "code",
     "collapsed": false,
     "input": [
      "def check_results(results):\n",
      "    valid = []\n",
      "    \n",
      "    for result in results:\n",
      "        value, answer = result\n",
      "        if ord('a') <= answer <= ord('z'):\n",
      "            valid.append(value)\n",
      "        else:\n",
      "            print answer, \"isn't a valid ascii character in a-z, removing\", value\n",
      "    \n",
      "    return valid\n",
      "        \n",
      "print \", \".join(fragments)"
     ],
     "language": "python",
     "metadata": {},
     "outputs": [
      {
       "output_type": "stream",
       "stream": "stdout",
       "text": [
        "nnnnnn10, 0111AAAA, AAaaaaaa, 01ZZZZZZ, LLLLLL01, 0110bbbb, bbCCCCCC\n"
       ]
      }
     ],
     "prompt_number": 117
    },
    {
     "cell_type": "code",
     "collapsed": false,
     "input": [
      "# try to substitute all possibilities into bytes known, and make sure\n",
      "# the result is in [a-z]\n",
      "\n",
      "print \"checking n against nnnnnn10\"\n",
      "possibilities['nnnnnn'] = check_results(\n",
      "    [(x,int(\"{0:06b}\".format(x) + '10', 2)) for x in possibilities['nnnnnn']])\n",
      "    \n",
      "print \"checking A against 0111AAAA\"\n",
      "possibilities['AAAAAA'] = check_results(\n",
      "    [(x,int('0111' + \"{0:06b}\".format(x)[-4:], 2)) for x in possibilities['AAAAAA']])\n",
      "\n",
      "# for AAaaaaaa we know that AA has to be 01 (because the byte has to\n",
      "# start with 011), so we can check that pattern\n",
      "print \"checking a against AAaaaaaa\"\n",
      "possibilities['aaaaaa'] = check_results(\n",
      "    [(x,int('01' + \"{0:06b}\".format(x), 2)) for x in possibilities['aaaaaa']])\n",
      "\n",
      "print \"checking Z against 01ZZZZZZ\"\n",
      "possibilities['ZZZZZZ'] = check_results(\n",
      "    [(x,int('01' + \"{0:06b}\".format(x), 2)) for x in possibilities['ZZZZZZ']])\n",
      "\n",
      "print \"checking L against LLLLLL01\"\n",
      "possibilities['LLLLLL'] = check_results(\n",
      "    [(x,int(\"{0:06b}\".format(x) + '01', 2)) for x in possibilities['LLLLLL']])\n",
      "\n",
      "print \"checking b against 0110bbbb\"\n",
      "possibilities['bbbbbb'] = check_results(\n",
      "    [(x,int('0110' + \"{0:06b}\".format(x)[-4:], 2)) for x in possibilities['bbbbbb']])\n",
      "\n",
      "# for bbCCCCCC we can do similar to AAaaaaaa\n",
      "print \"checking C against bbCCCCCC\"\n",
      "possibilities['CCCCCC'] = check_results(\n",
      "    [(x,int('01' + \"{0:06b}\".format(x), 2)) for x in possibilities['CCCCCC']])\n",
      "\n",
      "# skipping bbCCCCCC"
     ],
     "language": "python",
     "metadata": {},
     "outputs": [
      {
       "output_type": "stream",
       "stream": "stdout",
       "text": [
        "checking n against nnnnnn10\n",
        "checking A against 0111AAAA\n",
        "125 isn't a valid ascii character in a-z, removing 29\n",
        "125 isn't a valid ascii character in a-z, removing 45\n",
        "checking a against AAaaaaaa\n",
        "96 isn't a valid ascii character in a-z, removing 32\n",
        "123 isn't a valid ascii character in a-z, removing 59\n",
        "124 isn't a valid ascii character in a-z, removing 60\n",
        "126 isn't a valid ascii character in a-z, removing 62\n",
        "127 isn't a valid ascii character in a-z, removing 63\n",
        "checking Z against 01ZZZZZZ\n",
        "96 isn't a valid ascii character in a-z, removing 32\n",
        "123 isn't a valid ascii character in a-z, removing 59\n",
        "124 isn't a valid ascii character in a-z, removing 60\n",
        "126 isn't a valid ascii character in a-z, removing 62\n",
        "127 isn't a valid ascii character in a-z, removing 63\n",
        "checking L against LLLLLL01\n",
        "checking b against 0110bbbb\n",
        "checking C against bbCCCCCC\n",
        "96 isn't a valid ascii character in a-z, removing 32\n",
        "123 isn't a valid ascii character in a-z, removing 59\n",
        "124 isn't a valid ascii character in a-z, removing 60\n",
        "126 isn't a valid ascii character in a-z, removing 62\n",
        "127 isn't a valid ascii character in a-z, removing 63\n"
       ]
      }
     ],
     "prompt_number": 118
    },
    {
     "cell_type": "code",
     "collapsed": false,
     "input": [
      "# lets look at what we have now\n",
      "for possibility, answers in possibilities.items():\n",
      "    print possibility, \"could be\", \", \".join([str(x) for x in answers]), \"(size: \" + str(len(answers)) + \")\""
     ],
     "language": "python",
     "metadata": {},
     "outputs": [
      {
       "output_type": "stream",
       "stream": "stdout",
       "text": [
        "AAAAAA could be 1, 9, 17, 21, 25, 33, 41, 49 (size: 8)\n",
        "bbbbbb could be 1, 9, 17, 21, 25, 29, 33, 41, 45, 49 (size: 10)\n",
        "aaaaaa could be 33, 34, 35, 36, 40, 41, 42, 43, 44, 45, 46, 47, 48, 49, 50, 51, 52, 54, 56, 58 (size: 20)\n",
        "CCCCCC could be 33, 34, 35, 36, 40, 41, 42, 43, 44, 45, 46, 47, 48, 49, 50, 51, 52, 54, 56, 58 (size: 20)\n",
        "ZZZZZZ could be 33, 34, 35, 36, 40, 41, 42, 43, 44, 45, 46, 47, 48, 49, 50, 51, 52, 54, 56, 58 (size: 20)\n",
        "nnnnnn could be 25, 28, 29, 30 (size: 4)\n",
        "LLLLLL could be 25, 28, 29, 30 (size: 4)\n"
       ]
      }
     ],
     "prompt_number": 128
    },
    {
     "cell_type": "code",
     "collapsed": false,
     "input": [
      "print 8 * 10 * 20 * 20 * 20 * 4 * 4"
     ],
     "language": "python",
     "metadata": {},
     "outputs": [
      {
       "output_type": "stream",
       "stream": "stdout",
       "text": [
        "10240000\n"
       ]
      }
     ],
     "prompt_number": 129
    },
    {
     "cell_type": "markdown",
     "metadata": {},
     "source": [
      "## Final\n",
      "\n",
      "At this point, with what we know, we have 10 million possible guesses, but it would likely be difficult to \n",
      "It was at this point I once again googled for the ciphertext, and accidentally happened across someone elses solution for this level.  They claimed to know immediately that this was an algorithm called ATOM-128.  Interestingly, googling for ATOM-128 only turns up one link talking about the [implementation](http://www.fluxbytes.com/csharp/atom-128-algorithm-in-c/) of this algorithm, and a seedy-looking site at `crypo.in.ua` (which I won't link, as it looks suspicious) for encrypting and decrypting things.  Several other posted solutions reference this site, but it sounds as though people were just brute forcing all algorithms they could find.\n",
      "\n",
      "I would argue that googling the answer is completely valid in a CTF, but some others might call it cheating.  You can see, however, that the alphabet used for decrypting ATOM-128 is where we were headed in this solution:"
     ]
    },
    {
     "cell_type": "code",
     "collapsed": false,
     "input": [
      "print ''.join(faux_b64_table)\n",
      "atom128 = '/128GhIoPQROSTeUbADfgHijKLM+n0pFWXY456xyzB7=39VaqrstJklmNuZvwcdEC'\n",
      "print atom128"
     ],
     "language": "python",
     "metadata": {},
     "outputs": [
      {
       "output_type": "stream",
       "stream": "stdout",
       "text": [
        "     hI      T        ijK M+   F     6xy             k m u   c  \n",
        "/128GhIoPQROSTeUbADfgHijKLM+n0pFWXY456xyzB7=39VaqrstJklmNuZvwcdEC\n"
       ]
      }
     ],
     "prompt_number": 132
    },
    {
     "cell_type": "markdown",
     "metadata": {},
     "source": [
      "as in, the alphabet we've uncovered is correct so far against the correct ATOM-128 alphabet.\n",
      "\n",
      "If we fill in the blanks for the letters we need, we get the flag.  We were clearly on the right track!"
     ]
    },
    {
     "cell_type": "code",
     "collapsed": false,
     "input": [
      "for missing in ['n', 'A', 'a', 'Z', 'L', 'b', 'C']:\n",
      "    val = atom128.find(missing)\n",
      "    b64_val_by_char[missing] = val\n",
      "    b64_char_by_val[val] = missing\n",
      "\n",
      "binary_string = \"\"\n",
      "\n",
      "for char in ciphertext:\n",
      "    if char not in b64_val_by_char:\n",
      "        binary_string += (char*6)\n",
      "        missing_values.append(char)\n",
      "    else:\n",
      "        binary_string += \"{0:06b}\".format(b64_val_by_char[char])\n",
      "        \n",
      "flag_final = []\n",
      "for chunk in [binary_string[i:i+8] for i in range(0, len(binary_string), 8)]:\n",
      "    flag_final.append(chr(int(chunk, 2)))\n",
      "print \"\".join(flag_final)"
     ],
     "language": "python",
     "metadata": {},
     "outputs": [
      {
       "output_type": "stream",
       "stream": "stdout",
       "text": [
        "infosec_flagis_rceatomized \u0000\n"
       ]
      }
     ],
     "prompt_number": 138
    },
    {
     "cell_type": "markdown",
     "metadata": {},
     "source": [
      "# Flag\n",
      "\n",
      "`infosec_flagis_rceatomized`"
     ]
    }
   ],
   "metadata": {}
  }
 ]
}