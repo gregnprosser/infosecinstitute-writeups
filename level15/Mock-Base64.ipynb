{
 "metadata": {
  "name": ""
 },
 "nbformat": 3,
 "nbformat_minor": 0,
 "worksheets": [
  {
   "cells": [
    {
     "cell_type": "markdown",
     "metadata": {},
     "source": [
      "# Inspiration\n",
      "\n",
      "The ciphertext from level 15 in the challenge appears a lot like a base64 encoded string, but doesn't decode using regular tools.  However, on a lark, I tried some rudimentary cryptanalysis on the ciphertext.  Cryptographers (people who break codes for a living) often use [crib](http://en.wikipedia.org/wiki/Known-plaintext_attack) texts - information known about the result - to deduce information about the cryptography.\n",
      "\n",
      "The following notebook shows my experimentation with the level 15 string assuming this is a base64 algorithm, with the idea that the resulting flag will begin with the common `infosec_flagis_` string found from other levels."
     ]
    },
    {
     "cell_type": "markdown",
     "metadata": {},
     "source": [
      "## The Basics\n",
      "\n",
      "To start with, it's worth discussing how base64 works.  base64 uses only alphabetic, numeric, and (generally) `+` and `/` characters to represent more complicated (i.e. binary) data.  The idea behind this is that these characters are usually transferred \"easier\" than complicated binary.\n",
      "\n",
      "A string is a collection of ASCII characters encoded as bytes.  During base64 encoding, this string of bytes is \"converted\" into a a string of 6-bit chunks instead, and each 6-bit chunk is encoded as one of the 64 characters in the acceptable set by indexing into an array containing `ABCDEFGHIJKLMNOPQRSTUVWXYZabcdefghijklmnopqrstuvwxyz0123456789+/` (i.e. `A` represents `000000`)\n",
      "\n",
      "To experiment, lets start by assuming the first few characters of the result are the crib we know of, `infosec_flagis_`, and try to reverse the encoding to find a mapping table that would result in our string -- that is, if we assume the ciphertext represents that crib, what would the string we need to index into look like?"
     ]
    },
    {
     "cell_type": "code",
     "collapsed": false,
     "input": [
      "def ascii_to_binary(ascii):\n",
      "    \"\"\"Returns the ascii text supplied converted to binary, as a string.\"\"\"\n",
      "    \n",
      "    return \"\".join([\"{0:08b}\".format(ord(chr)) for chr in ascii])\n",
      "\n",
      "def chunk_string(instr, chunksize):\n",
      "    \"\"\"Return a list formed by breaking instr into chunksize sized chunks.\"\"\"\n",
      "    return [instr[i:i+chunksize] for i in range(0, len(instr), chunksize)]\n",
      "\n",
      "# ciphertext from .hey\n",
      "ciphertext = \"Miux+mT6Kkcx+IhyMjTFnxT6KjAa+i6ZLibC\"\n",
      "\n",
      "# lets assume the beginning of the flag is this\n",
      "flag_fragment = \"infosec_flagis_\"\n",
      "\n",
      "flag_as_b64_chunks = chunk_string(ascii_to_binary(flag_fragment), 6)\n",
      "\n",
      "# assuming this is a base64 variant, populate a translation table with \"knowns\"\n",
      "# things left unknown will be filled with a space\n",
      "\n",
      "faux_b64_table = [\" \"] * 64\n",
      "\n",
      "for candidatepos in range(len(flag_as_b64_chunks)):\n",
      "    candidate = flag_as_b64_chunks[candidatepos]\n",
      "    if len(candidate) != 6:\n",
      "        print \"skipping too small fragment:\", candidate\n",
      "    else:\n",
      "        as_int = int(candidate, 2)\n",
      "        targetchar = faux_b64_table[as_int]\n",
      "        if targetchar not in [' ', ciphertext[candidatepos]]:\n",
      "            print \"error: attempted to fill slot\", as_int, \"with\", ciphertext[candidatepos], \"but it's already\", targetchar\n",
      "        else:\n",
      "            faux_b64_table[as_int] = ciphertext[candidatepos]\n",
      "\n",
      "print \"filled set:\", \"[\" + \"\".join(faux_b64_table) + \"]\""
     ],
     "language": "python",
     "metadata": {},
     "outputs": [
      {
       "output_type": "stream",
       "stream": "stdout",
       "text": [
        "filled set: [     hI      T        ijK M+   F     6xy             k m u   c  ]\n"
       ]
      }
     ],
     "prompt_number": 2
    },
    {
     "cell_type": "markdown",
     "metadata": {},
     "source": [
      "## Preliminary Results\n",
      "\n",
      "This was at first an experiment -- but the fact that no duplicates ended up in the resulting table (i.e. the reverse algorithm didn't try to put two characters in the same position) gives us some hope.\n",
      "\n",
      "Lets go on to try decoding the string based on what we have, marking things we can't decode with a `*`."
     ]
    },
    {
     "cell_type": "code",
     "collapsed": false,
     "input": [
      "# now lets build an inversed hash from this, and try to decode - see what we're missing\n",
      "b64_val_by_char = {}\n",
      "b64_char_by_val = {}\n",
      "\n",
      "for i in range(len(faux_b64_table)):\n",
      "        if faux_b64_table[i] == ' ':\n",
      "            pass\n",
      "        else:\n",
      "            b64_val_by_char[faux_b64_table[i]] = i\n",
      "            b64_char_by_val[i] = faux_b64_table[i]\n",
      "\n",
      "# convert the ciphertext into a string of bits using what we know\n",
      "# if we don't know the bit pattern, fill the bits with the letter\n",
      "# also, keep track of what letters we 'need'\n",
      "\n",
      "binary_string = \"\"\n",
      "missing_values = []\n",
      "\n",
      "for char in ciphertext:\n",
      "    if char not in b64_val_by_char:\n",
      "        binary_string += (char*6)\n",
      "        missing_values.append(char)\n",
      "    else:\n",
      "        binary_string += \"{0:06b}\".format(b64_val_by_char[char])\n",
      "\n",
      "\n",
      "print \"missing values:\", \", \".join(missing_values)\n",
      "print\n",
      "\n",
      "binary_chunks = chunk_string(binary_string, 8)\n",
      "\n",
      "print \"|\".join(binary_chunks)"
     ],
     "language": "python",
     "metadata": {},
     "outputs": [
      {
       "output_type": "stream",
       "stream": "stdout",
       "text": [
        "missing values: n, A, a, Z, L, b, C\n",
        "\n",
        "01101001|01101110|01100110|01101111|01110011|01100101|01100011|01011111|01100110|01101100|01100001|01100111|01101001|01110011|01011111|nnnnnn10|01100011|01100101|01100001|0111AAAA|AAaaaaaa|01101101|01101001|01ZZZZZZ|LLLLLL01|0110bbbb|bbCCCCCC\n"
       ]
      }
     ],
     "prompt_number": 14
    },
    {
     "cell_type": "code",
     "collapsed": false,
     "input": [
      "# lets print out what we know as a result of what we found earlier\n",
      "\n",
      "decoded_so_far = \"\"\n",
      "for chunk in binary_chunks:\n",
      "    if chunk.isdigit():\n",
      "        decoded_so_far += chr(int(chunk, 2))\n",
      "    else:\n",
      "        decoded_so_far += \"*\"\n",
      "        \n",
      "print decoded_so_far "
     ],
     "language": "python",
     "metadata": {},
     "outputs": [
      {
       "output_type": "stream",
       "stream": "stdout",
       "text": [
        "infosec_flagis_*cea**mi****\n"
       ]
      }
     ],
     "prompt_number": 13
    },
    {
     "cell_type": "markdown",
     "metadata": {},
     "source": [
      "## More Results\n",
      "\n",
      "Impossibly (seemingly), we managed to encode some later characters in the string!  I think this is working!\n",
      "\n",
      "Since most of the flags (and all the induced characters above) seem to be lowercase, this gives us more information.  The range of values for `a` to `z` only ranges from 97 to 112, which look like this in binary:"
     ]
    },
    {
     "cell_type": "code",
     "collapsed": false,
     "input": [
      "print \"{0:08b}\".format(ord('a'))\n",
      "print \"{0:08b}\".format(ord('z'))"
     ],
     "language": "python",
     "metadata": {},
     "outputs": [
      {
       "output_type": "stream",
       "stream": "stdout",
       "text": [
        "01100001\n",
        "01111010\n"
       ]
      }
     ],
     "prompt_number": 15
    },
    {
     "cell_type": "markdown",
     "metadata": {},
     "source": [
      "## What does this mean?\n",
      "\n",
      "Well, for starters, all our bytes must then start with `011`.  Lets look at all the bytes in the encoding that are missing data."
     ]
    },
    {
     "cell_type": "code",
     "collapsed": false,
     "input": [
      "fragments = []\n",
      "\n",
      "# lets print all the fragments\n",
      "for chunk in binary_chunks:\n",
      "    if not chunk.isdigit():\n",
      "        print chunk\n",
      "        fragments.append(chunk)"
     ],
     "language": "python",
     "metadata": {},
     "outputs": [
      {
       "output_type": "stream",
       "stream": "stdout",
       "text": [
        "nnnnnn10\n",
        "0111AAAA\n",
        "AAaaaaaa\n",
        "01ZZZZZZ\n",
        "LLLLLL01\n",
        "0110bbbb\n",
        "bbCCCCCC\n"
       ]
      }
     ],
     "prompt_number": 35
    },
    {
     "cell_type": "markdown",
     "metadata": {},
     "source": [
      "## Deductions\n",
      "\n",
      "At this point, we can conclude the following about the missing bits:\n",
      "\n",
      "- `nnnnnn` is `011xxx`\n",
      "- `AAAAAA` is `xxxx01`\n",
      "- `aaaaaa` is `1xxxxx`\n",
      "- `ZZZZZZ` is `1xxxxx`\n",
      "- `LLLLLL` is `011xxx`\n",
      "- `bbbbbb` is `xxxx01`\n",
      "- `CCCCCC` is `1xxxxx`\n",
      "\n",
      "We can determine from this what numbers are acceptable for these spots."
     ]
    },
    {
     "cell_type": "code",
     "collapsed": false,
     "input": [
      "deductions = {\n",
      "    # sequence, bits, mask\n",
      "    ('nnnnnn', '011000', '111000'),\n",
      "    ('AAAAAA', '000001', '000011'),\n",
      "    ('aaaaaa', '100000', '100000'),\n",
      "    ('ZZZZZZ', '100000', '100000'),\n",
      "    ('LLLLLL', '011000', '111000'),\n",
      "    ('bbbbbb', '000001', '000011'),\n",
      "    ('CCCCCC', '100000', '100000'),\n",
      "}\n",
      "\n",
      "possibilities = {}\n",
      "\n",
      "# this is the list of numbers we haven't \"used\" in the base64 values\n",
      "numbers_available = set(range(64)) - set(b64_char_by_val.keys())\n",
      "\n",
      "# lets build a search space of possible values\n",
      "search_space = {}\n",
      "\n",
      "for sequence, bits, mask in deductions:\n",
      "    candidates = []\n",
      "    for possiblenum in numbers_available:\n",
      "        if (possiblenum & int(mask,2)) == int(bits,2):\n",
      "            candidates.append(possiblenum)\n",
      "\n",
      "    possibilities[sequence] = candidates\n",
      "    \n",
      "    print \"for\", sequence, \"the values can be\", candidates"
     ],
     "language": "python",
     "metadata": {},
     "outputs": [
      {
       "output_type": "stream",
       "stream": "stdout",
       "text": [
        "for aaaaaa the values can be [32, 33, 34, 35, 36, 40, 41, 42, 43, 44, 45, 46, 47, 48, 49, 50, 51, 52, 54, 56, 58, 59, 60, 62, 63]\n",
        "for CCCCCC the values can be [32, 33, 34, 35, 36, 40, 41, 42, 43, 44, 45, 46, 47, 48, 49, 50, 51, 52, 54, 56, 58, 59, 60, 62, 63]\n",
        "for bbbbbb the values can be [1, 9, 17, 21, 25, 29, 33, 41, 45, 49]\n",
        "for AAAAAA the values can be [1, 9, 17, 21, 25, 29, 33, 41, 45, 49]\n",
        "for ZZZZZZ the values can be [32, 33, 34, 35, 36, 40, 41, 42, 43, 44, 45, 46, 47, 48, 49, 50, 51, 52, 54, 56, 58, 59, 60, 62, 63]\n",
        "for nnnnnn the values can be [25, 28, 29, 30]\n",
        "for LLLLLL the values can be [25, 28, 29, 30]\n"
       ]
      }
     ],
     "prompt_number": 36
    },
    {
     "cell_type": "code",
     "collapsed": false,
     "input": [
      "# now, lets eliminate any values which make the values fall out of range\n",
      "print fragments"
     ],
     "language": "python",
     "metadata": {},
     "outputs": [
      {
       "output_type": "stream",
       "stream": "stdout",
       "text": [
        "['nnnnnn10', '0111AAAA', 'AAaaaaaa', '01ZZZZZZ', 'LLLLLL01', '0110bbbb', 'bbCCCCCC']\n"
       ]
      }
     ],
     "prompt_number": 37
    },
    {
     "cell_type": "code",
     "collapsed": false,
     "input": [
      "def piece_substitution(piece, deductions):\n",
      "    \"\"\"Given a byte with a letter pattern in it, attempt to make an\n",
      "    appropriate substitution to make the pattern complete\"\"\"\n",
      "    \n",
      "    # process the string in both directions, starting at either end\n",
      "    for direction, startposition in ( (1, 0), (-1, -1) ):\n",
      "        \n",
      "        if not piece[startposition].isdigit():\n",
      "            # all the parts we want to replace start at the beginning\n",
      "            # or end.  so if either of them are a digit we don't care\n",
      "            \n",
      "            position = startposition + direction\n",
      "            numbertoreplace = 1\n",
      "            character = piece[startposition]\n",
      "            \n",
      "            # advance until we don't see the same character anymore\n",
      "            while piece[position] == character:\n",
      "                position += direction\n",
      "                numbertoreplace += 1\n",
      "            \n",
      "            # now we know we want to replace *numbertoreplace* characters\n",
      "            # with the deduction identified by *character*\n",
      "            allpossibilities = possibilities[character * 6]\n",
      "            confirmedok = []\n",
      "            for possibility in allpossibilities:\n",
      "                pass\n",
      "            print \"chars:\", character, \"values:\", allpossibilities\n",
      "\n",
      "for fragment in fragments:\n",
      "    piece_substitution(fragment, deductions)"
     ],
     "language": "python",
     "metadata": {},
     "outputs": [
      {
       "output_type": "stream",
       "stream": "stdout",
       "text": [
        "chars: n values: [25, 28, 29, 30]\n",
        "chars: A values: [1, 9, 17, 21, 25, 29, 33, 41, 45, 49]\n",
        "chars: A values: [1, 9, 17, 21, 25, 29, 33, 41, 45, 49]\n",
        "chars: a values: [32, 33, 34, 35, 36, 40, 41, 42, 43, 44, 45, 46, 47, 48, 49, 50, 51, 52, 54, 56, 58, 59, 60, 62, 63]\n",
        "chars: Z values: [32, 33, 34, 35, 36, 40, 41, 42, 43, 44, 45, 46, 47, 48, 49, 50, 51, 52, 54, 56, 58, 59, 60, 62, 63]\n",
        "chars: L values: [25, 28, 29, 30]\n",
        "chars: b values: [1, 9, 17, 21, 25, 29, 33, 41, 45, 49]\n",
        "chars: b values: [1, 9, 17, 21, 25, 29, 33, 41, 45, 49]\n",
        "chars: C values: [32, 33, 34, 35, 36, 40, 41, 42, 43, 44, 45, 46, 47, 48, 49, 50, 51, 52, 54, 56, 58, 59, 60, 62, 63]\n"
       ]
      }
     ],
     "prompt_number": 49
    },
    {
     "cell_type": "code",
     "collapsed": false,
     "input": [],
     "language": "python",
     "metadata": {},
     "outputs": []
    }
   ],
   "metadata": {}
  }
 ]
}